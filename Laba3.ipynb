{
 "cells": [
  {
   "cell_type": "markdown",
   "metadata": {},
   "source": [
    "## Лабораторная работа №3 "
   ]
  },
  {
   "cell_type": "markdown",
   "metadata": {},
   "source": [
    "### Стрекнев Д. СКБ172 "
   ]
  },
  {
   "cell_type": "markdown",
   "metadata": {},
   "source": [
    "### Простая хэш-функция "
   ]
  },
  {
   "cell_type": "code",
   "execution_count": 94,
   "metadata": {},
   "outputs": [],
   "source": [
    "def hash1(st):\n",
    "    # принимает строку (st), возвращает хэш (Hash)\n",
    "    Hash = \"\"\n",
    "    for i in range(0,len(st),3):\n",
    "        Hash = Hash + st[i]*(2**i)\n",
    "    return Hash\n",
    "                            "
   ]
  },
  {
   "cell_type": "markdown",
   "metadata": {},
   "source": [
    "### Сложная хэш-функция "
   ]
  },
  {
   "cell_type": "code",
   "execution_count": 95,
   "metadata": {},
   "outputs": [],
   "source": [
    "def hash2(st): # Аналог rot13\n",
    "    # принимает строку (st), возвращает хэш (Hash)\n",
    "    Hash = \"\"\n",
    "    for v in st:\n",
    "        c = ord(v)\n",
    "        if c >= ord('a') and c <= ord('z'):\n",
    "            if c > ord('m'):\n",
    "                c -= 13\n",
    "            else:\n",
    "                c += 13\n",
    "        elif c >= ord('A') and c <= ord('Z'):\n",
    "            if c > ord('M'):\n",
    "                c -= 13\n",
    "            else:\n",
    "                c += 13\n",
    "        Hash += chr(c)\n",
    "    return Hash\n"
   ]
  },
  {
   "cell_type": "markdown",
   "metadata": {},
   "source": [
    "### Класс \"Сотрудник\" "
   ]
  },
  {
   "cell_type": "code",
   "execution_count": 96,
   "metadata": {},
   "outputs": [],
   "source": [
    "class Employee:\n",
    "    def __init__(self, Department, Name, Date, Position):\n",
    "        self.Department = Department\n",
    "        self.Name = Name\n",
    "        self.Date = Date\n",
    "        self.Position = Position\n",
    "        self.Hash1 = hash1(self.Name)\n",
    "        self.Hash2 = hash2(self.Name)\n",
    "\n",
    "        \n",
    "    def __gt__(self,other):\n",
    "        if self.Department > other.Department:\n",
    "            return True\n",
    "        elif self.Department == other.Department and self.Name > other.Name:\n",
    "            return True\n",
    "        elif self.Department == other.Department and self.Name == other.Name and self.Date > other.Date:\n",
    "            return True\n",
    "        elif self.Department == other.Department and self.Name == other.Name and self.Date == other.Date and self.Position > other.Position:\n",
    "            return True\n",
    "        else:\n",
    "            return False\n",
    "        \n",
    "    def __lt__(self,other):\n",
    "        if self.Department < other.Department:\n",
    "            return True\n",
    "        elif self.Department == other.Department and self.Name < other.Name:\n",
    "            return True\n",
    "        elif self.Department == other.Department and self.Name == other.Name and self.Date < other.Date:\n",
    "            return True\n",
    "        elif self.Department == other.Department and self.Name == other.Name and self.Date == other.Date and self.Position < other.Position:\n",
    "            return True\n",
    "        else:\n",
    "            return False\n",
    "        "
   ]
  },
  {
   "cell_type": "markdown",
   "metadata": {},
   "source": [
    "### Функция-генератор объектов"
   ]
  },
  {
   "cell_type": "code",
   "execution_count": 97,
   "metadata": {},
   "outputs": [],
   "source": [
    "from datetime import datetime, date\n",
    "import random\n",
    "def generate(n):\n",
    "    # принимает количество объектов (n), возвращает сгенерированный список (s) объектов класса \"Сотрудник\"\n",
    "    dep = [\"Реклама\",\"Кадры\",\"Менеджмент\",\"Технический\",\"Редакция\",\"Монтажный\",\"Кулинарный\",\"Главный\"]  \n",
    "    pos = [\"Программист\", \"Менеджер\",\"Оператор\",\"Администратор\",\"Начальник\",\"Заведующий\",\"Заместитель\",\"Редактор\"]\n",
    "    s=[]\n",
    "    for i in range(n):\n",
    "        d = dep[random.randint(0,len(dep)-1)]\n",
    "        p = pos[random.randint(0,len(pos)-1)]\n",
    "        dat = date(random.randint(1960,2000),random.randint(1,12),random.randint(1,28))\n",
    "        \n",
    "        # будем генерить рандомную строку рандомной длины \n",
    "        nam = \"\"\n",
    "        for i in range(random.randint(1,20)):\n",
    "            nam = nam + chr(random.randint(ord('a'), ord('z')))\n",
    "        \n",
    "        emp = Employee(d,nam,dat,p)\n",
    "        s.append(emp)\n",
    "    return s\n"
   ]
  },
  {
   "cell_type": "markdown",
   "metadata": {},
   "source": [
    "### Хэш-таблица "
   ]
  },
  {
   "cell_type": "code",
   "execution_count": 98,
   "metadata": {},
   "outputs": [],
   "source": [
    "# Таблица составляется с методом цепочек\n",
    "def hash_table1(s): \n",
    "    # Принимает список объектов (s), возвравщает словарь (table), где ключ - это хэш, а значение - это список объектов,\n",
    "    # у которых значение хэша равно ключу   \n",
    "    table = {}\n",
    "    for i in range(len(s)):\n",
    "        table[s[i].Hash1]=[]\n",
    "    for i in range(len(s)):\n",
    "        table[s[i].Hash1].append(s[i])\n",
    "    return table\n",
    "\n",
    "def hash_table2(s): \n",
    "    # Принимает список объектов (s), возвравщает словарь (table), где ключ - это хэш, а значение - это список объектов,\n",
    "    # у которых значение хэша равно ключу  \n",
    "    table = {}\n",
    "    for i in range(len(s)):\n",
    "        table[s[i].Hash2]=[]\n",
    "    for i in range(len(s)):\n",
    "        table[s[i].Hash2].append(s[i])\n",
    "    return table\n"
   ]
  },
  {
   "cell_type": "markdown",
   "metadata": {},
   "source": [
    "### Функция поиска элемента в массиве объектов с использованием хэш-таблицы "
   ]
  },
  {
   "cell_type": "code",
   "execution_count": 99,
   "metadata": {},
   "outputs": [],
   "source": [
    "def search1(s, value):\n",
    "    # принимает список объектов (s), возвращает список (sp) тех объектов, у которых значение поля Name равно value\n",
    "    ht = hash_table1(s)\n",
    "    sp = ht[hash1(value)]\n",
    "    return sp\n",
    "    \n",
    "def search2(s, value):\n",
    "    # принимает список объектов (s), возвращает список (sp) тех объектов, у которых значение поля Name равно value\n",
    "    ht = hash_table2(s)\n",
    "    sp = ht[hash2(value)]\n",
    "    return sp"
   ]
  },
  {
   "cell_type": "markdown",
   "metadata": {},
   "source": [
    "### Тесты на время поиска элемента"
   ]
  },
  {
   "cell_type": "code",
   "execution_count": 109,
   "metadata": {},
   "outputs": [],
   "source": [
    "import time\n",
    "y1=[]\n",
    "y2=[]\n",
    "x=[]\n",
    "def test(n):\n",
    "    # принимает количество объектов (n), генерирует список sp из n объектов, производит поиск объектов списка,\n",
    "    # у которых значение атрибута Name равно значению атрибута Name последнего объекта списка\n",
    "    sp = generate(n)\n",
    "    value = sp[len(sp)-1].Name\n",
    "    \n",
    "    start_time = time.time()\n",
    "    search1(sp, value)\n",
    "    y1.append(time.time() - start_time)\n",
    "    \n",
    "    start_time = time.time()\n",
    "    search2(sp, value)\n",
    "    y2.append(time.time() - start_time)\n",
    "    \n",
    "    x.append(n)\n"
   ]
  },
  {
   "cell_type": "code",
   "execution_count": 110,
   "metadata": {},
   "outputs": [],
   "source": [
    "test(10) \n",
    "test(100)\n",
    "test(1000)\n",
    "test(2500)\n",
    "test(5000)\n",
    "test(7500)\n",
    "test(10000)\n",
    "test(15000)\n",
    "test(20000)\n",
    "test(25000)\n",
    "test(30000)\n",
    "test(40000)\n",
    "test(50000)\n",
    "test(60000)\n",
    "test(70000)\n",
    "test(80000)\n",
    "test(90000)\n",
    "test(100000)"
   ]
  },
  {
   "cell_type": "markdown",
   "metadata": {},
   "source": [
    "### График результатов поиска"
   ]
  },
  {
   "cell_type": "code",
   "execution_count": 111,
   "metadata": {},
   "outputs": [
    {
     "data": {
      "text/plain": [
       "Text(0, 0.5, 'Time, sec (log scale)')"
      ]
     },
     "execution_count": 111,
     "metadata": {},
     "output_type": "execute_result"
    },
    {
     "data": {
      "image/png": "[encoded data removed]",
      "text/plain": [
       "<Figure size 432x288 with 1 Axes>"
      ]
     },
     "metadata": {
      "needs_background": "light"
     },
     "output_type": "display_data"
    }
   ],
   "source": [
    "import matplotlib.pyplot as plt \n",
    "plt.title('Search speed comparison')\n",
    "plt.yscale('log')\n",
    "plt.plot(x,y1,label=\"hash1\") \n",
    "plt.plot(x,y2,label=\"hash2\")\n",
    "plt.legend(loc='upper left')\n",
    "plt.xlabel('Num of obj')\n",
    "plt.ylabel('Time, sec (log scale)')"
   ]
  },
  {
   "cell_type": "markdown",
   "metadata": {},
   "source": [
    "### Как видно из графиков, по первому хэшу элемент находится дольше, чем по второму, это соответствует  тому, первая хэш-функция менее эффективна, чем вторая"
   ]
  },
  {
   "cell_type": "markdown",
   "metadata": {},
   "source": [
    "### Теперь рассмотрим вопрос о числе коллизий"
   ]
  },
  {
   "cell_type": "code",
   "execution_count": 103,
   "metadata": {},
   "outputs": [],
   "source": [
    "x=[]\n",
    "y1=[]\n",
    "y2=[]\n",
    "def testk(n):\n",
    "    # принимает число n, генерерут массив из n объектов, создает хэш-таблицы для каждой хэш-функции,\n",
    "    # c их помощью считает число коллизий для каждой хэш-функции\n",
    "    sp = generate(n)\n",
    "    h1 = hash_table1(sp)\n",
    "    h2 = hash_table2(sp)\n",
    "    k1=0\n",
    "    k2=0\n",
    "    \n",
    "    for i in h1:\n",
    "        if len(h1[i]) > 1:\n",
    "            s=[]\n",
    "            for k in h1[i]:\n",
    "                if k.Name not in s:\n",
    "                    s.append(k.Name)\n",
    "            k1 = k1 + len(s) - 1\n",
    "    \n",
    "    for i in h2:\n",
    "        if len(h2[i]) > 1:\n",
    "            s=[]\n",
    "            for k in h2[i]:\n",
    "                if k.Name not in s:\n",
    "                    s.append(k.Name)\n",
    "            k2 = k2 + len(s) - 1\n",
    "    \n",
    "    y1.append(k1)\n",
    "    y2.append(k2)\n",
    "    x.append(n)"
   ]
  },
  {
   "cell_type": "code",
   "execution_count": 104,
   "metadata": {},
   "outputs": [],
   "source": [
    "testk(100) \n",
    "testk(1000)\n",
    "testk(2500) \n",
    "testk(5000) \n",
    "testk(7500)\n",
    "testk(10000)\n",
    "testk(12500)\n",
    "testk(15000)\n",
    "testk(17500)\n",
    "testk(20000)\n",
    "testk(25000)\n",
    "testk(30000)\n",
    "testk(40000)\n",
    "testk(50000)\n",
    "testk(60000)\n",
    "testk(70000)\n",
    "testk(80000)\n",
    "testk(90000)\n",
    "testk(100000)"
   ]
  },
  {
   "cell_type": "code",
   "execution_count": 105,
   "metadata": {
    "scrolled": true
   },
   "outputs": [
    {
     "data": {
      "text/plain": [
       "Text(0, 0.5, 'Num col')"
      ]
     },
     "execution_count": 105,
     "metadata": {},
     "output_type": "execute_result"
    },
    {
     "data": {
      "image/png": "[encoded data removed]",
      "text/plain": [
       "<Figure size 432x288 with 1 Axes>"
      ]
     },
     "metadata": {
      "needs_background": "light"
     },
     "output_type": "display_data"
    }
   ],
   "source": [
    "plt.title('Number of collisions')\n",
    "plt.plot(x,y1,label=\"h1\")\n",
    "plt.plot(x,y2,label=\"h2\")\n",
    "plt.legend(loc='upper left')\n",
    "plt.xlabel('Num obj')\n",
    "plt.ylabel('Num col')"
   ]
  }
 ],
 "metadata": {
  "kernelspec": {
   "display_name": "Python 3",
   "language": "python",
   "name": "python3"
  },
  "language_info": {
   "codemirror_mode": {
    "name": "ipython",
    "version": 3
   },
   "file_extension": ".py",
   "mimetype": "text/x-python",
   "name": "python",
   "nbconvert_exporter": "python",
   "pygments_lexer": "ipython3",
   "version": "3.7.6"
  }
 },
 "nbformat": 4,
 "nbformat_minor": 2
}
